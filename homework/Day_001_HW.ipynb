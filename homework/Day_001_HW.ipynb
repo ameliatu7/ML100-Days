{
 "cells": [
  {
   "cell_type": "markdown",
   "metadata": {},
   "source": [
    "作業1：\n",
    "\n",
    "請上 Kaggle, 在 Competitions 或 Dataset 中找一組競賽或資料並寫下：\n",
    "\n",
    "\n",
    "\n",
    "1. 你選的這組資料為何重要\n",
    "    - https://www.kaggle.com/carolzhangdc/imdb-5000-movie-dataset\n",
    "    - 藉由電影各種元素與變數判斷觀眾喜好度   \n",
    "\n",
    "2. 資料從何而來 (tips: 譬如提供者是誰、以什麼方式蒐集)\n",
    "    - IMDB\n",
    "    - facebook\n",
    "\n",
    "3. 蒐集而來的資料型態為何\n",
    "    - CSV\n",
    "\n",
    "4. 這組資料想解決的問題如何評估\n",
    "    - 找出導演、演員、電影的臉書按讚數以及電影本身的元素（種類、長度、發行時間等等）與電影評分的關係，看這些變數如何影響電影評分，進而推測未來電影好評組合。\n",
    "\n",
    "\n",
    "作業2：\n",
    "\n",
    "想像你經營一個自由載客車隊，你希望能透過數據分析以提升業績，請你思考並描述你如何規劃整體的分析/解決方案：\n",
    "\n",
    "\n",
    "\n",
    "1. 核心問題為何 (tips：如何定義 「提升業績 & 你的假設」)\n",
    "    - 找出在相同時間達到業績極大化的方式，提升效率\n",
    "    - 提升客戶忠誠度\n",
    "\n",
    "2. 資料從何而來 (tips：哪些資料可能會對你想問的問題產生影響 & 資料如何蒐集)\n",
    "    - 載客日期與時間\n",
    "    - 載客地點與目的地\n",
    "    - 顧客類型及人數\n",
    "    - 顧客滿意度問卷調查\n",
    "\n",
    "3. 蒐集而來的資料型態為何\n",
    "    - CSV檔\n",
    "\n",
    "4. 你要回答的問題，其如何評估 (tips：你的假設如何驗證)\n",
    "    - 利用載客時間、路線、顧客類型對比滿意度調查的評分數字，找出相關性\n",
    "    - 利用載客時間、路線、顧客類型對比實際產生業績，找出能將業績和效率極大化的方式\n",
    "\n",
    "\n",
    "作業3：\n",
    "\n",
    "請點選檢視範例依照 Day_001_example_of_metrics.ipynb 完成 Mean Squared Error 的函式"
   ]
  },
  {
   "cell_type": "code",
   "execution_count": 1,
   "metadata": {},
   "outputs": [],
   "source": [
    "import numpy as np\n",
    "import matplotlib.pyplot as plt"
   ]
  },
  {
   "cell_type": "code",
   "execution_count": 15,
   "metadata": {},
   "outputs": [
    {
     "data": {
      "image/png": "[encoded data removed]",
      "text/plain": [
       "<Figure size 432x288 with 1 Axes>"
      ]
     },
     "metadata": {},
     "output_type": "display_data"
    }
   ],
   "source": [
    "w = 3 #加權\n",
    "b = 0.5 #偏誤\n",
    "\n",
    "x_lin = np.linspace(0,100,101)\n",
    "\n",
    "y = (x_lin + np.random.randn(101)*5) * w + b\n",
    "\n",
    "plt.plot(x_lin, y, 'b.', label = 'data points') #blue dots\n",
    "#plt.plot(x_lin, y, linestyle = '--', label = 'data points') #虛線\n",
    "#plt.plot(x_lin, y, label = 'data points') #折線\n",
    "\n",
    "plt.title(\"Assume we have data points\")\n",
    "plt.legend(loc = 2) #plt.legend(loc = 'upper left')\n",
    "#  'best' : 0,          \n",
    "#  'upper right'  : 1,\n",
    "#  'upper left'   : 2,\n",
    "#  'lower left'   : 3,\n",
    "#  'lower right'  : 4,\n",
    "#  'right'        : 5,\n",
    "#  'center left'  : 6,\n",
    "#  'center right' : 7,\n",
    "#  'lower center' : 8,\n",
    "#  'upper center' : 9,\n",
    "#  'center'       : 10,\n",
    "plt.show()"
   ]
  },
  {
   "cell_type": "code",
   "execution_count": 20,
   "metadata": {},
   "outputs": [
    {
     "data": {
      "image/png": "[encoded data removed]",
      "text/plain": [
       "<Figure size 432x288 with 1 Axes>"
      ]
     },
     "metadata": {},
     "output_type": "display_data"
    }
   ],
   "source": [
    "y_hat = x_lin * w + b\n",
    "plt.plot(x_lin, y, 'b.', label = 'data')\n",
    "plt.plot(x_lin, y_hat, 'r-', label = 'prediction')\n",
    "plt.title(\"Assume we have data points (And the prediction)\")\n",
    "plt.legend(loc = 2)\n",
    "plt.show()"
   ]
  },
  {
   "cell_type": "code",
   "execution_count": 22,
   "metadata": {},
   "outputs": [
    {
     "name": "stdout",
     "output_type": "stream",
     "text": [
      "The Mean absolute error is 11.857\n"
     ]
    }
   ],
   "source": [
    "def mean_absolute_error(y,yp):\n",
    "    \"\"\"\n",
    "    計算MAE\n",
    "    Args:\n",
    "        - y: 實際值\n",
    "        - yp: 預測值\n",
    "    Return:\n",
    "        - mae: MAE\n",
    "    \"\"\"\n",
    "    mae = MAE = sum(abs(y-yp))/len(y)\n",
    "    return mae"
   ]
  },
  {
   "cell_type": "code",
   "execution_count": 23,
   "metadata": {},
   "outputs": [],
   "source": [
    "def mean_square_error(y,yp):\n",
    "    \"\"\"\n",
    "    計算MSE\n",
    "    Args:\n",
    "        - y: 實際值\n",
    "        - yp: 預測值\n",
    "    Return:\n",
    "        - mse: MSE\n",
    "    \"\"\"\n",
    "    mse = MSE = sum(abs(y-yp)**2)/len(y)\n",
    "    return mse"
   ]
  },
  {
   "cell_type": "code",
   "execution_count": 25,
   "metadata": {},
   "outputs": [
    {
     "name": "stdout",
     "output_type": "stream",
     "text": [
      "The Mean absolute error is 11.857\n",
      "The Mean square error is 205.678\n"
     ]
    }
   ],
   "source": [
    "MAE = mean_absolute_error(y, y_hat)\n",
    "MSE = mean_square_error(y, y_hat)\n",
    "print(\"The Mean absolute error is %.3f\" % (MAE))\n",
    "print(\"The Mean square error is %.3f\" % (MSE))"
   ]
  }
 ],
 "metadata": {
  "kernelspec": {
   "display_name": "Python 3",
   "language": "python",
   "name": "python3"
  },
  "language_info": {
   "codemirror_mode": {
    "name": "ipython",
    "version": 3
   },
   "file_extension": ".py",
   "mimetype": "text/x-python",
   "name": "python",
   "nbconvert_exporter": "python",
   "pygments_lexer": "ipython3",
   "version": "3.6.5"
  }
 },
 "nbformat": 4,
 "nbformat_minor": 2
}
